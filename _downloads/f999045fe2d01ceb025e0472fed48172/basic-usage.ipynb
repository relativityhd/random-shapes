{
  "cells": [
    {
      "cell_type": "markdown",
      "metadata": {},
      "source": [
        "\n# Basic Usage Example\n\nThis is a basic usage example of the `random-shapes` package.\n"
      ]
    },
    {
      "cell_type": "markdown",
      "metadata": {},
      "source": [
        "With random-shapes it is easy to generate a random shape (`bezier.Curve`):\n\n"
      ]
    },
    {
      "cell_type": "code",
      "execution_count": null,
      "metadata": {
        "collapsed": false
      },
      "outputs": [],
      "source": [
        "import matplotlib.pyplot as plt\n\nfrom random_shapes import Shape\n\nshp = Shape.random(n=10, r=0.05, edgy=0.2)\n# Shape.curve is a bezier.CurvedPolygon, since Shape is a just wrapper\nshp.curve.plot(pts_per_edge=10)"
      ]
    },
    {
      "cell_type": "markdown",
      "metadata": {},
      "source": [
        "This shape can then be turned into a binary image:\n\n"
      ]
    },
    {
      "cell_type": "code",
      "execution_count": null,
      "metadata": {
        "collapsed": false
      },
      "outputs": [],
      "source": [
        "img = shp.rasterize(1000, 1000)\nplt.imshow(img, cmap=\"jet\", origin=\"lower\")"
      ]
    },
    {
      "cell_type": "markdown",
      "metadata": {},
      "source": [
        "Shapes can be generated with through 3 parameters:\n\n- `n`: number of control points\n- `r`: curvature of the control points\n- `edgy`: how edgy the shape is\n\n"
      ]
    },
    {
      "cell_type": "code",
      "execution_count": null,
      "metadata": {
        "collapsed": false
      },
      "outputs": [],
      "source": [
        "import matplotlib as mpl\nimport matplotlib.colors as mcolors\nimport numpy as np\n\n# Create a 6 color color map based on jet but with white at the first position\nnc = 10\ncmap = mpl.colormaps.get_cmap(\"jet\")\ncolors = cmap(np.linspace(0, 1, nc))\ncolors[0] = np.array([1, 1, 1, 1])\ncmap = mcolors.LinearSegmentedColormap.from_list(\"mycmap\", colors)\n\nn_vals = [3, 4, 7, 20]\nr_vals = [0.05, 0.1, 0.2, 0.5, 0.8]\nedgy_vals = [0, 0.1, 0.2, 0.5, 1, 5, 10]\n\nfig, axs = plt.subplots(ncols=len(n_vals), figsize=(7 * len(n_vals), 10))\naxs = axs.flatten()\n\nfor k, n in enumerate(n_vals):\n    img = np.zeros((len(r_vals) * 100, len(edgy_vals) * 100))\n\n    for i, r in enumerate(r_vals):\n        for j, edgy in enumerate(edgy_vals):\n            c = ((i * 7 + j) % (nc - 1) + 1) / nc\n            shp = Shape.random(n=n, r=r, edgy=edgy)\n            shp_img = shp.rasterize(90, 90) * c\n            img[i * 100 + 5 : (i + 1) * 100 - 5, j * 100 + 5 : (j + 1) * 100 - 5] = shp_img\n\n    ax = axs[k]\n    ax.imshow(img.T, cmap=cmap)\n    ax.set_xticks(np.arange(50, img.shape[0], 100), [f\"r={r}\" for r in r_vals])\n    ax.set_yticks(np.arange(50, img.shape[1], 100), [f\"edgy={edgy}\" for edgy in edgy_vals])\n    ax.set_title(f\"Random shapes with {n=}\")"
      ]
    }
  ],
  "metadata": {
    "kernelspec": {
      "display_name": "Python 3",
      "language": "python",
      "name": "python3"
    },
    "language_info": {
      "codemirror_mode": {
        "name": "ipython",
        "version": 3
      },
      "file_extension": ".py",
      "mimetype": "text/x-python",
      "name": "python",
      "nbconvert_exporter": "python",
      "pygments_lexer": "ipython3",
      "version": "3.11.11"
    }
  },
  "nbformat": 4,
  "nbformat_minor": 0
}